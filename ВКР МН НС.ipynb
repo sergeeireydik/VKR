{
 "cells": [
  {
   "cell_type": "code",
   "execution_count": 1,
   "id": "f881f80c",
   "metadata": {},
   "outputs": [],
   "source": [
    "import numpy as np\n",
    "import matplotlib.pyplot as plt\n",
    "import pandas as pd\n",
    "import scipy\n",
    "%matplotlib inline\n",
    "from sklearn.model_selection import train_test_split\n",
    "from sklearn.preprocessing import LabelEncoder\n",
    "from sklearn.metrics import accuracy_score\n",
    "from tensorflow.keras import Sequential\n",
    "from tensorflow.keras.layers import Dense, Dropout\n",
    "from matplotlib import pyplot"
   ]
  },
  {
   "cell_type": "code",
   "execution_count": 2,
   "id": "29cf28ae",
   "metadata": {},
   "outputs": [],
   "source": [
    "from sklearn.preprocessing import MinMaxScaler"
   ]
  },
  {
   "cell_type": "code",
   "execution_count": 3,
   "id": "75566d35",
   "metadata": {},
   "outputs": [],
   "source": [
    "df1=pd.read_excel(r\"D:\\Новая папка\\\\Users\\\\HP\\Загрузки\\hw_data_composite/X_nup.xlsx\")"
   ]
  },
  {
   "cell_type": "code",
   "execution_count": 4,
   "id": "42cdb9ff",
   "metadata": {},
   "outputs": [],
   "source": [
    "df2=pd.read_excel(r\"D:\\Новая папка\\\\Users\\\\HP\\Загрузки\\hw_data_composite/X_bp.xlsx\")"
   ]
  },
  {
   "cell_type": "code",
   "execution_count": 5,
   "id": "08028078",
   "metadata": {},
   "outputs": [],
   "source": [
    "df=df2.merge(df1, how=\"inner\")\n",
    "df1.dropna(inplace=True)"
   ]
  },
  {
   "cell_type": "code",
   "execution_count": 6,
   "id": "a69876bc",
   "metadata": {},
   "outputs": [
    {
     "name": "stdout",
     "output_type": "stream",
     "text": [
      "(1023, 13)\n"
     ]
    },
    {
     "data": {
      "text/html": [
       "<div>\n",
       "<style scoped>\n",
       "    .dataframe tbody tr th:only-of-type {\n",
       "        vertical-align: middle;\n",
       "    }\n",
       "\n",
       "    .dataframe tbody tr th {\n",
       "        vertical-align: top;\n",
       "    }\n",
       "\n",
       "    .dataframe thead th {\n",
       "        text-align: right;\n",
       "    }\n",
       "</style>\n",
       "<table border=\"1\" class=\"dataframe\">\n",
       "  <thead>\n",
       "    <tr style=\"text-align: right;\">\n",
       "      <th></th>\n",
       "      <th>Соотношение матрица-наполнитель</th>\n",
       "      <th>Плотность, кг/м3</th>\n",
       "      <th>модуль упругости, ГПа</th>\n",
       "      <th>Количество отвердителя, м.%</th>\n",
       "      <th>Содержание эпоксидных групп,%_2</th>\n",
       "      <th>Температура вспышки, С_2</th>\n",
       "      <th>Поверхностная плотность, г/м2</th>\n",
       "      <th>Модуль упругости при растяжении, ГПа</th>\n",
       "      <th>Прочность при растяжении, МПа</th>\n",
       "      <th>Потребление смолы, г/м2</th>\n",
       "      <th>Угол нашивки, град</th>\n",
       "      <th>Шаг нашивки</th>\n",
       "      <th>Плотность нашивки</th>\n",
       "    </tr>\n",
       "  </thead>\n",
       "  <tbody>\n",
       "    <tr>\n",
       "      <th>0</th>\n",
       "      <td>1.857143</td>\n",
       "      <td>2030.0</td>\n",
       "      <td>738.736842</td>\n",
       "      <td>30.00</td>\n",
       "      <td>22.267857</td>\n",
       "      <td>100.000000</td>\n",
       "      <td>210.0</td>\n",
       "      <td>70.0</td>\n",
       "      <td>3000.0</td>\n",
       "      <td>220.0</td>\n",
       "      <td>0.0</td>\n",
       "      <td>4.0</td>\n",
       "      <td>57.0</td>\n",
       "    </tr>\n",
       "    <tr>\n",
       "      <th>1</th>\n",
       "      <td>1.857143</td>\n",
       "      <td>2030.0</td>\n",
       "      <td>738.736842</td>\n",
       "      <td>50.00</td>\n",
       "      <td>23.750000</td>\n",
       "      <td>284.615385</td>\n",
       "      <td>210.0</td>\n",
       "      <td>70.0</td>\n",
       "      <td>3000.0</td>\n",
       "      <td>220.0</td>\n",
       "      <td>0.0</td>\n",
       "      <td>4.0</td>\n",
       "      <td>60.0</td>\n",
       "    </tr>\n",
       "    <tr>\n",
       "      <th>2</th>\n",
       "      <td>1.857143</td>\n",
       "      <td>2030.0</td>\n",
       "      <td>738.736842</td>\n",
       "      <td>49.90</td>\n",
       "      <td>33.000000</td>\n",
       "      <td>284.615385</td>\n",
       "      <td>210.0</td>\n",
       "      <td>70.0</td>\n",
       "      <td>3000.0</td>\n",
       "      <td>220.0</td>\n",
       "      <td>0.0</td>\n",
       "      <td>4.0</td>\n",
       "      <td>70.0</td>\n",
       "    </tr>\n",
       "    <tr>\n",
       "      <th>3</th>\n",
       "      <td>1.857143</td>\n",
       "      <td>2030.0</td>\n",
       "      <td>738.736842</td>\n",
       "      <td>129.00</td>\n",
       "      <td>21.250000</td>\n",
       "      <td>300.000000</td>\n",
       "      <td>210.0</td>\n",
       "      <td>70.0</td>\n",
       "      <td>3000.0</td>\n",
       "      <td>220.0</td>\n",
       "      <td>0.0</td>\n",
       "      <td>5.0</td>\n",
       "      <td>47.0</td>\n",
       "    </tr>\n",
       "    <tr>\n",
       "      <th>4</th>\n",
       "      <td>2.771331</td>\n",
       "      <td>2030.0</td>\n",
       "      <td>753.000000</td>\n",
       "      <td>111.86</td>\n",
       "      <td>22.267857</td>\n",
       "      <td>284.615385</td>\n",
       "      <td>210.0</td>\n",
       "      <td>70.0</td>\n",
       "      <td>3000.0</td>\n",
       "      <td>220.0</td>\n",
       "      <td>0.0</td>\n",
       "      <td>5.0</td>\n",
       "      <td>57.0</td>\n",
       "    </tr>\n",
       "  </tbody>\n",
       "</table>\n",
       "</div>"
      ],
      "text/plain": [
       "   Соотношение матрица-наполнитель  Плотность, кг/м3  модуль упругости, ГПа  \\\n",
       "0                         1.857143            2030.0             738.736842   \n",
       "1                         1.857143            2030.0             738.736842   \n",
       "2                         1.857143            2030.0             738.736842   \n",
       "3                         1.857143            2030.0             738.736842   \n",
       "4                         2.771331            2030.0             753.000000   \n",
       "\n",
       "   Количество отвердителя, м.%  Содержание эпоксидных групп,%_2  \\\n",
       "0                        30.00                        22.267857   \n",
       "1                        50.00                        23.750000   \n",
       "2                        49.90                        33.000000   \n",
       "3                       129.00                        21.250000   \n",
       "4                       111.86                        22.267857   \n",
       "\n",
       "   Температура вспышки, С_2  Поверхностная плотность, г/м2  \\\n",
       "0                100.000000                          210.0   \n",
       "1                284.615385                          210.0   \n",
       "2                284.615385                          210.0   \n",
       "3                300.000000                          210.0   \n",
       "4                284.615385                          210.0   \n",
       "\n",
       "   Модуль упругости при растяжении, ГПа  Прочность при растяжении, МПа  \\\n",
       "0                                  70.0                         3000.0   \n",
       "1                                  70.0                         3000.0   \n",
       "2                                  70.0                         3000.0   \n",
       "3                                  70.0                         3000.0   \n",
       "4                                  70.0                         3000.0   \n",
       "\n",
       "   Потребление смолы, г/м2  Угол нашивки, град  Шаг нашивки  Плотность нашивки  \n",
       "0                    220.0                 0.0          4.0               57.0  \n",
       "1                    220.0                 0.0          4.0               60.0  \n",
       "2                    220.0                 0.0          4.0               70.0  \n",
       "3                    220.0                 0.0          5.0               47.0  \n",
       "4                    220.0                 0.0          5.0               57.0  "
      ]
     },
     "execution_count": 6,
     "metadata": {},
     "output_type": "execute_result"
    }
   ],
   "source": [
    "df.drop('Unnamed: 0',axis = 1, inplace = True)\n",
    "print(df.shape)\n",
    "df.head()"
   ]
  },
  {
   "cell_type": "code",
   "execution_count": 7,
   "id": "301632b6",
   "metadata": {},
   "outputs": [],
   "source": [
    "Q1 = df2.quantile(q=.25)\n",
    "Q3 = df2.quantile(q=.75)\n",
    "IQR = Q3 - Q1\n",
    "df = df2[~((df2 < (Q1-1.5*IQR)) | (df2 > (Q3+1.5*IQR))).any(axis=1)]"
   ]
  },
  {
   "cell_type": "code",
   "execution_count": 8,
   "id": "b6fba49a",
   "metadata": {},
   "outputs": [],
   "source": [
    "scaler = MinMaxScaler(feature_range=(0, 1))\n",
    "columns = df.columns\n",
    "df = scaler.fit_transform(np.array(df))\n",
    "df = pd.DataFrame(df, columns=columns)"
   ]
  },
  {
   "cell_type": "code",
   "execution_count": 9,
   "id": "251b8e4d",
   "metadata": {},
   "outputs": [
    {
     "data": {
      "text/plain": [
       "((961, 1), (961, 10))"
      ]
     },
     "execution_count": 9,
     "metadata": {},
     "output_type": "execute_result"
    }
   ],
   "source": [
    "y_label = ['Соотношение матрица-наполнитель']\n",
    "y = df[y_label]\n",
    "X = df.drop(y_label, axis = 1)\n",
    "y.shape,X.shape"
   ]
  },
  {
   "cell_type": "code",
   "execution_count": 10,
   "id": "92016da4",
   "metadata": {},
   "outputs": [],
   "source": [
    "X_train,X_test,y_train,y_test=train_test_split(X,y,test_size=0.3,shuffle=True)"
   ]
  },
  {
   "cell_type": "code",
   "execution_count": 11,
   "id": "4ceca0a7",
   "metadata": {
    "scrolled": true
   },
   "outputs": [
    {
     "name": "stdout",
     "output_type": "stream",
     "text": [
      "Epoch 1/20\n",
      "3/3 [==============================] - 2s 209ms/step - loss: 0.1786 - val_loss: 0.0523\n",
      "Epoch 2/20\n",
      "3/3 [==============================] - 0s 31ms/step - loss: 0.0544 - val_loss: 0.0564\n",
      "Epoch 3/20\n",
      "3/3 [==============================] - 0s 33ms/step - loss: 0.0760 - val_loss: 0.0575\n",
      "Epoch 4/20\n",
      "3/3 [==============================] - 0s 28ms/step - loss: 0.0636 - val_loss: 0.0388\n",
      "Epoch 5/20\n",
      "3/3 [==============================] - 0s 35ms/step - loss: 0.0467 - val_loss: 0.0402\n",
      "Epoch 6/20\n",
      "3/3 [==============================] - 0s 33ms/step - loss: 0.0483 - val_loss: 0.0463\n",
      "Epoch 7/20\n",
      "3/3 [==============================] - 0s 36ms/step - loss: 0.0472 - val_loss: 0.0454\n",
      "Epoch 8/20\n",
      "3/3 [==============================] - 0s 39ms/step - loss: 0.0486 - val_loss: 0.0402\n",
      "Epoch 9/20\n",
      "3/3 [==============================] - 0s 33ms/step - loss: 0.0443 - val_loss: 0.0368\n",
      "Epoch 10/20\n",
      "3/3 [==============================] - 0s 35ms/step - loss: 0.0418 - val_loss: 0.0367\n",
      "Epoch 11/20\n",
      "3/3 [==============================] - 0s 32ms/step - loss: 0.0434 - val_loss: 0.0369\n",
      "Epoch 12/20\n",
      "3/3 [==============================] - 0s 37ms/step - loss: 0.0431 - val_loss: 0.0364\n",
      "Epoch 13/20\n",
      "3/3 [==============================] - 0s 40ms/step - loss: 0.0430 - val_loss: 0.0370\n",
      "Epoch 14/20\n",
      "3/3 [==============================] - 0s 39ms/step - loss: 0.0418 - val_loss: 0.0381\n",
      "Epoch 15/20\n",
      "3/3 [==============================] - 0s 33ms/step - loss: 0.0424 - val_loss: 0.0380\n",
      "Epoch 16/20\n",
      "3/3 [==============================] - 0s 31ms/step - loss: 0.0400 - val_loss: 0.0370\n",
      "Epoch 17/20\n",
      "3/3 [==============================] - 0s 41ms/step - loss: 0.0404 - val_loss: 0.0362\n",
      "Epoch 18/20\n",
      "3/3 [==============================] - 0s 35ms/step - loss: 0.0402 - val_loss: 0.0362\n",
      "Epoch 19/20\n",
      "3/3 [==============================] - 0s 32ms/step - loss: 0.0396 - val_loss: 0.0365\n",
      "Epoch 20/20\n",
      "3/3 [==============================] - 0s 32ms/step - loss: 0.0398 - val_loss: 0.0374\n"
     ]
    }
   ],
   "source": [
    "model=Sequential()\n",
    "model.add(Dense(200, activation=\"relu\"))\n",
    "model.add(Dropout(0.2))\n",
    "model.add(Dense(100, activation=\"relu\"))\n",
    "model.add(Dropout(0.1))\n",
    "model.add(Dense(1, activation=\"linear\"))\n",
    "model.compile(optimizer=\"adam\", loss=\"MeanSquaredError\")\n",
    "history=model.fit(X_train, y_train,\n",
    "                 epochs=20,\n",
    "                 batch_size=256,\n",
    "                 verbose=1,\n",
    "                 validation_data=(X_test, y_test))"
   ]
  },
  {
   "cell_type": "code",
   "execution_count": 17,
   "id": "1c86c943",
   "metadata": {},
   "outputs": [
    {
     "data": {
      "text/plain": [
       "{'loss': [0.17857585847377777,\n",
       "  0.054381370544433594,\n",
       "  0.07604163140058517,\n",
       "  0.06364764273166656,\n",
       "  0.04672016575932503,\n",
       "  0.04829690605401993,\n",
       "  0.04722577705979347,\n",
       "  0.048552971333265305,\n",
       "  0.044334907084703445,\n",
       "  0.04179663211107254,\n",
       "  0.04336076229810715,\n",
       "  0.043123774230480194,\n",
       "  0.04295697808265686,\n",
       "  0.041837792843580246,\n",
       "  0.04239580035209656,\n",
       "  0.039974112063646317,\n",
       "  0.04041614010930061,\n",
       "  0.040199536830186844,\n",
       "  0.039627332240343094,\n",
       "  0.03976493701338768],\n",
       " 'val_loss': [0.052258480340242386,\n",
       "  0.05638979747891426,\n",
       "  0.05748623237013817,\n",
       "  0.038848765194416046,\n",
       "  0.040159955620765686,\n",
       "  0.04628102108836174,\n",
       "  0.04536238685250282,\n",
       "  0.04022136703133583,\n",
       "  0.03682957589626312,\n",
       "  0.036708731204271317,\n",
       "  0.03687245026230812,\n",
       "  0.03637681528925896,\n",
       "  0.03703285753726959,\n",
       "  0.03812030702829361,\n",
       "  0.037968702614307404,\n",
       "  0.036999017000198364,\n",
       "  0.036211058497428894,\n",
       "  0.0361594595015049,\n",
       "  0.0365372970700264,\n",
       "  0.037357620894908905]}"
      ]
     },
     "execution_count": 17,
     "metadata": {},
     "output_type": "execute_result"
    }
   ],
   "source": [
    "history.history\n",
    "# результат"
   ]
  },
  {
   "cell_type": "code",
   "execution_count": 15,
   "id": "605a0f4c",
   "metadata": {},
   "outputs": [
    {
     "data": {
      "image/png": "[encoded data removed]",
      "text/plain": [
       "<Figure size 432x288 with 1 Axes>"
      ]
     },
     "metadata": {
      "needs_background": "light"
     },
     "output_type": "display_data"
    }
   ],
   "source": [
    "plt.plot(history.history[\"val_loss\"],\n",
    "        label=\"оцен потери\")\n",
    "plt.plot(history.history[\"loss\"],\n",
    "        label=\"потери\")\n",
    "plt.xlabel(\"эпоха\")\n",
    "plt.ylabel(\"потери\")\n",
    "plt.legend()\n",
    "plt.show()"
   ]
  },
  {
   "cell_type": "code",
   "execution_count": 19,
   "id": "c019fe11",
   "metadata": {},
   "outputs": [
    {
     "name": "stdout",
     "output_type": "stream",
     "text": [
      "Model: \"sequential_2\"\n",
      "_________________________________________________________________\n",
      " Layer (type)                Output Shape              Param #   \n",
      "=================================================================\n",
      " dense_6 (Dense)             (None, 200)               2200      \n",
      "                                                                 \n",
      " dropout_4 (Dropout)         (None, 200)               0         \n",
      "                                                                 \n",
      " dense_7 (Dense)             (None, 100)               20100     \n",
      "                                                                 \n",
      " dropout_5 (Dropout)         (None, 100)               0         \n",
      "                                                                 \n",
      " dense_8 (Dense)             (None, 1)                 101       \n",
      "                                                                 \n",
      "=================================================================\n",
      "Total params: 22,401\n",
      "Trainable params: 22,401\n",
      "Non-trainable params: 0\n",
      "_________________________________________________________________\n"
     ]
    }
   ],
   "source": [
    "model.summary()"
   ]
  },
  {
   "cell_type": "code",
   "execution_count": null,
   "id": "2c629f0d",
   "metadata": {},
   "outputs": [],
   "source": []
  }
 ],
 "metadata": {
  "kernelspec": {
   "display_name": "Python 3 (ipykernel)",
   "language": "python",
   "name": "python3"
  },
  "language_info": {
   "codemirror_mode": {
    "name": "ipython",
    "version": 3
   },
   "file_extension": ".py",
   "mimetype": "text/x-python",
   "name": "python",
   "nbconvert_exporter": "python",
   "pygments_lexer": "ipython3",
   "version": "3.9.12"
  }
 },
 "nbformat": 4,
 "nbformat_minor": 5
}
