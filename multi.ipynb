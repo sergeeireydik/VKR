{
 "cells": [
  {
   "cell_type": "code",
   "execution_count": 1,
   "id": "4744d2d0",
   "metadata": {},
   "outputs": [],
   "source": [
    "import numpy as np\n",
    "import matplotlib.pyplot as plt\n",
    "import pandas as pd\n",
    "import scipy\n",
    "%matplotlib inline\n",
    "from matplotlib.colorbar import colorbar_factory\n",
    "from sklearn.model_selection import train_test_split\n",
    "from sklearn.preprocessing import LabelEncoder\n",
    "from sklearn.metrics import accuracy_score\n",
    "from keras.models import Sequential \n",
    "from keras.layers import Dense, Dropout \n",
    "from matplotlib import pyplot\n",
    "from sklearn.model_selection import GridSearchCV\n"
   ]
  },
  {
   "cell_type": "code",
   "execution_count": 2,
   "id": "0e889cdc",
   "metadata": {},
   "outputs": [],
   "source": [
    "df1=pd.read_excel(r\"D:\\Новая папка\\\\Users\\\\HP\\Загрузки\\hw_data_composite/X_nup.xlsx\")"
   ]
  },
  {
   "cell_type": "code",
   "execution_count": 3,
   "id": "6bdb6b36",
   "metadata": {},
   "outputs": [],
   "source": [
    "df2=pd.read_excel(r\"D:\\Новая папка\\\\Users\\\\HP\\Загрузки\\hw_data_composite/X_bp.xlsx\")"
   ]
  },
  {
   "cell_type": "code",
   "execution_count": 4,
   "id": "62f9be08",
   "metadata": {},
   "outputs": [],
   "source": [
    "df=df2.merge(df1, how=\"inner\")\n",
    "df1.dropna(inplace=True)"
   ]
  },
  {
   "cell_type": "code",
   "execution_count": 5,
   "id": "0dff2c30",
   "metadata": {},
   "outputs": [
    {
     "name": "stdout",
     "output_type": "stream",
     "text": [
      "(1023, 13)\n"
     ]
    }
   ],
   "source": [
    "df.drop('Unnamed: 0',axis = 1, inplace = True)\n",
    "print(df.shape)\n",
    "#df.head()"
   ]
  },
  {
   "cell_type": "code",
   "execution_count": 6,
   "id": "b73af88d",
   "metadata": {},
   "outputs": [],
   "source": [
    "Q1 = df2.quantile(q=.25)\n",
    "Q3 = df2.quantile(q=.75)\n",
    "IQR = Q3 - Q1\n",
    "df = df2[~((df2 < (Q1-1.5*IQR)) | (df2 > (Q3+1.5*IQR))).any(axis=1)]"
   ]
  },
  {
   "cell_type": "code",
   "execution_count": 7,
   "id": "6f5defe7",
   "metadata": {},
   "outputs": [],
   "source": [
    "from sklearn.preprocessing import MinMaxScaler"
   ]
  },
  {
   "cell_type": "code",
   "execution_count": 8,
   "id": "e6667e86",
   "metadata": {},
   "outputs": [],
   "source": [
    "scaler = MinMaxScaler(feature_range=(0, 1))\n",
    "columns = df.columns\n",
    "df = scaler.fit_transform(np.array(df))\n",
    "df = pd.DataFrame(df, columns=columns)\n",
    "#df.head()"
   ]
  },
  {
   "cell_type": "code",
   "execution_count": 9,
   "id": "efc6a1fa",
   "metadata": {},
   "outputs": [
    {
     "data": {
      "text/plain": [
       "((961, 2), (961, 9))"
      ]
     },
     "execution_count": 9,
     "metadata": {},
     "output_type": "execute_result"
    }
   ],
   "source": [
    "# scaler_X = MinMaxScaler()\n",
    "# scaler_y = MinMaxScaler() \n",
    "# y = scaler_y.fit_transform(df[y_label])\n",
    "# X = scaler_X.fit_transform(df.drop(y_label, axis = 1))\n",
    "y_label = ['Модуль упругости при растяжении, ГПа', 'Прочность при растяжении, МПа']\n",
    "y = df[y_label]\n",
    "X = df.drop(y_label, axis = 1)\n",
    "y.shape,X.shape"
   ]
  },
  {
   "cell_type": "code",
   "execution_count": 10,
   "id": "d4b6b10f",
   "metadata": {},
   "outputs": [],
   "source": [
    "X_train,X_test,y_train,y_test=train_test_split(X,y,test_size=0.3,shuffle=True)"
   ]
  },
  {
   "cell_type": "code",
   "execution_count": 11,
   "id": "3bffa994",
   "metadata": {},
   "outputs": [],
   "source": [
    "loss_df = pd.DataFrame(columns=['target','model','MSE','R2'])"
   ]
  },
  {
   "cell_type": "code",
   "execution_count": 14,
   "id": "38ea4a9d",
   "metadata": {},
   "outputs": [],
   "source": [
    "from sklearn.metrics import mean_squared_error"
   ]
  },
  {
   "cell_type": "code",
   "execution_count": 21,
   "id": "525996a0",
   "metadata": {},
   "outputs": [],
   "source": [
    "from sklearn.linear_model import LinearRegression"
   ]
  },
  {
   "cell_type": "code",
   "execution_count": 27,
   "id": "9fc27a10",
   "metadata": {},
   "outputs": [],
   "source": [
    "from sklearn.metrics import r2_score"
   ]
  },
  {
   "cell_type": "code",
   "execution_count": 31,
   "id": "c6c78a72",
   "metadata": {},
   "outputs": [],
   "source": [
    "# модуль упругости при растяжении и прочность\n",
    "df =pd.DataFrame([])\n",
    "linear_model = LinearRegression()\n",
    "linear_model.fit(X_train,  y_train)\n",
    "y_pred = linear_model.predict(X_test)\n",
    "\n",
    "\n",
    "model_name = 'Linear Regression'\n",
    "def add_loss(loss_df, model_name):\n",
    "  MSE = mean_squared_error(y_test, y_pred)\n",
    "  R2 = r2_score(y_test, y_pred)\n",
    "    \n",
    "  \n",
    "  df = pd.DataFrame({'model':model_name,\\\n",
    "                                'target':['Модуль упругости и Прочность'],\\\n",
    "                                'MSE':MSE,\\\n",
    "                                'R2':R2})\n",
    "  # print(df.head())\n",
    "  loss_df = pd.concat([loss_df, df],ignore_index=True)\n",
    "  return loss_df\n",
    "  loss_df = add_loss(loss_df, model_name)\n",
    "# loss_df 'Linear Regression'"
   ]
  },
  {
   "cell_type": "code",
   "execution_count": 25,
   "id": "7df08b0d",
   "metadata": {},
   "outputs": [
    {
     "name": "stdout",
     "output_type": "stream",
     "text": [
      "0.03832604774083058\n"
     ]
    }
   ],
   "source": [
    "print(MSE)"
   ]
  },
  {
   "cell_type": "code",
   "execution_count": 35,
   "id": "a4e7706f",
   "metadata": {},
   "outputs": [
    {
     "name": "stdout",
     "output_type": "stream",
     "text": [
      "0.002139893472607235\n"
     ]
    }
   ],
   "source": [
    "print(R2)"
   ]
  },
  {
   "cell_type": "code",
   "execution_count": 63,
   "id": "45fd23a3",
   "metadata": {},
   "outputs": [],
   "source": [
    "from sklearn.svm import SVR\n",
    "from sklearn.multioutput import MultiOutputRegressor\n",
    "grid = { \n",
    "    'estimator__C':np.arange(1.0,5.5,0.5),\n",
    "    'estimator__epsilon':np.arange(0.1,1.1,0.1)}\n",
    "linear_model = LinearRegression()\n",
    "linear_model.fit(X_train,  y_train)\n",
    "y_pred = linear_model.predict(X_test)\n",
    "\n",
    "model = MultiOutputRegressor(SVR())\n",
    "gs = GridSearchCV(model, grid, n_jobs=-1, cv=10)\n",
    "gs.fit(X_train,  y_train)\n",
    "model = gs.best_estimator_\n",
    "\n",
    "MSE = mean_squared_error(y_test,y_pred)\n",
    "R2 = r2_score(y_test,y_pred)\n",
    "model_name = 'SVR'\n",
    "loss_df = add_loss(loss_df,model_name)\n",
    "def predicted_plot(y_test, y_pred,model_name):\n",
    "     MSE = mean_squared_error(y_test, y_pred)\n",
    "predicted_plot(y_test, y_pred,model_name)"
   ]
  },
  {
   "cell_type": "code",
   "execution_count": 71,
   "id": "9fe52390",
   "metadata": {},
   "outputs": [],
   "source": [
    "predictions = gs.predict(X_test)\n",
    " "
   ]
  },
  {
   "cell_type": "code",
   "execution_count": 67,
   "id": "d19cc372",
   "metadata": {
    "scrolled": true
   },
   "outputs": [
    {
     "name": "stderr",
     "output_type": "stream",
     "text": [
      "C:\\Users\\HP\\anaconda3\\lib\\site-packages\\numpy\\core\\fromnumeric.py:3438: FutureWarning: In a future version, DataFrame.mean(axis=None) will return a scalar mean over the entire DataFrame. To retain the old behavior, use 'frame.mean(axis=0)' or just 'frame.mean()'\n",
      "  return mean(axis=axis, dtype=dtype, out=out, **kwargs)\n"
     ]
    }
   ],
   "source": [
    "mae = np.mean(abs(predictions - y_test))"
   ]
  },
  {
   "cell_type": "code",
   "execution_count": 68,
   "id": "d776d3de",
   "metadata": {},
   "outputs": [
    {
     "name": "stdout",
     "output_type": "stream",
     "text": [
      "Модуль упругости при растяжении, ГПа    0.160363\n",
      "Прочность при растяжении, МПа           0.155501\n",
      "dtype: float64\n"
     ]
    }
   ],
   "source": [
    "#средняя абсолютная ошибка test выборки\n",
    "print(mae)"
   ]
  },
  {
   "cell_type": "code",
   "execution_count": 70,
   "id": "a9d383bf",
   "metadata": {},
   "outputs": [],
   "source": [
    "predictionss = gs.predict(X_train)\n"
   ]
  },
  {
   "cell_type": "code",
   "execution_count": 72,
   "id": "a2d319d3",
   "metadata": {
    "scrolled": true
   },
   "outputs": [
    {
     "name": "stderr",
     "output_type": "stream",
     "text": [
      "C:\\Users\\HP\\anaconda3\\lib\\site-packages\\numpy\\core\\fromnumeric.py:3438: FutureWarning: In a future version, DataFrame.mean(axis=None) will return a scalar mean over the entire DataFrame. To retain the old behavior, use 'frame.mean(axis=0)' or just 'frame.mean()'\n",
      "  return mean(axis=axis, dtype=dtype, out=out, **kwargs)\n"
     ]
    }
   ],
   "source": [
    "mae_train=np.mean(abs(predictionss - y_train))"
   ]
  },
  {
   "cell_type": "code",
   "execution_count": 73,
   "id": "30fa4d2c",
   "metadata": {},
   "outputs": [
    {
     "name": "stdout",
     "output_type": "stream",
     "text": [
      "Модуль упругости при растяжении, ГПа    0.154989\n",
      "Прочность при растяжении, МПа           0.147873\n",
      "dtype: float64\n"
     ]
    }
   ],
   "source": [
    "print(mae_train)"
   ]
  },
  {
   "cell_type": "code",
   "execution_count": 36,
   "id": "a76fa207",
   "metadata": {},
   "outputs": [
    {
     "name": "stdout",
     "output_type": "stream",
     "text": [
      "\n",
      "{'estimator__C': 1.0, 'estimator__cache_size': 200, 'estimator__coef0': 0.0, 'estimator__degree': 3, 'estimator__epsilon': 0.5, 'estimator__gamma': 'scale', 'estimator__kernel': 'rbf', 'estimator__max_iter': -1, 'estimator__shrinking': True, 'estimator__tol': 0.001, 'estimator__verbose': False, 'estimator': SVR(epsilon=0.5), 'n_jobs': None}\n"
     ]
    }
   ],
   "source": [
    "print(); print(gs.best_estimator_.get_params())"
   ]
  },
  {
   "cell_type": "code",
   "execution_count": 37,
   "id": "15eb361b",
   "metadata": {},
   "outputs": [
    {
     "data": {
      "text/html": [
       "<div>\n",
       "<style scoped>\n",
       "    .dataframe tbody tr th:only-of-type {\n",
       "        vertical-align: middle;\n",
       "    }\n",
       "\n",
       "    .dataframe tbody tr th {\n",
       "        vertical-align: top;\n",
       "    }\n",
       "\n",
       "    .dataframe thead th {\n",
       "        text-align: right;\n",
       "    }\n",
       "</style>\n",
       "<table border=\"1\" class=\"dataframe\">\n",
       "  <thead>\n",
       "    <tr style=\"text-align: right;\">\n",
       "      <th></th>\n",
       "      <th>target</th>\n",
       "      <th>model</th>\n",
       "      <th>MSE</th>\n",
       "      <th>R2</th>\n",
       "    </tr>\n",
       "  </thead>\n",
       "  <tbody>\n",
       "    <tr>\n",
       "      <th>0</th>\n",
       "      <td>Модуль упругости и Прочность</td>\n",
       "      <td>SVR</td>\n",
       "      <td>0.038326</td>\n",
       "      <td>0.00214</td>\n",
       "    </tr>\n",
       "  </tbody>\n",
       "</table>\n",
       "</div>"
      ],
      "text/plain": [
       "                         target model       MSE       R2\n",
       "0  Модуль упругости и Прочность   SVR  0.038326  0.00214"
      ]
     },
     "execution_count": 37,
     "metadata": {},
     "output_type": "execute_result"
    }
   ],
   "source": [
    "loss_df.head()"
   ]
  },
  {
   "cell_type": "code",
   "execution_count": 40,
   "id": "4965fafc",
   "metadata": {},
   "outputs": [
    {
     "data": {
      "text/plain": [
       "MultiOutputRegressor(estimator=SVR(epsilon=0.5))"
      ]
     },
     "execution_count": 40,
     "metadata": {},
     "output_type": "execute_result"
    }
   ],
   "source": [
    "gs.best_estimator_"
   ]
  },
  {
   "cell_type": "code",
   "execution_count": 58,
   "id": "ecebab33",
   "metadata": {},
   "outputs": [
    {
     "data": {
      "text/html": [
       "<div>\n",
       "<style scoped>\n",
       "    .dataframe tbody tr th:only-of-type {\n",
       "        vertical-align: middle;\n",
       "    }\n",
       "\n",
       "    .dataframe tbody tr th {\n",
       "        vertical-align: top;\n",
       "    }\n",
       "\n",
       "    .dataframe thead th {\n",
       "        text-align: right;\n",
       "    }\n",
       "</style>\n",
       "<table border=\"1\" class=\"dataframe\">\n",
       "  <thead>\n",
       "    <tr style=\"text-align: right;\">\n",
       "      <th></th>\n",
       "      <th>target</th>\n",
       "      <th>model</th>\n",
       "      <th>MSE</th>\n",
       "      <th>R2</th>\n",
       "    </tr>\n",
       "  </thead>\n",
       "  <tbody>\n",
       "    <tr>\n",
       "      <th>0</th>\n",
       "      <td>Модуль упругости и Прочность</td>\n",
       "      <td>SVR</td>\n",
       "      <td>0.038326</td>\n",
       "      <td>0.00214</td>\n",
       "    </tr>\n",
       "    <tr>\n",
       "      <th>1</th>\n",
       "      <td>Модуль упругости и Прочность</td>\n",
       "      <td>SVR</td>\n",
       "      <td>0.038326</td>\n",
       "      <td>0.00214</td>\n",
       "    </tr>\n",
       "    <tr>\n",
       "      <th>2</th>\n",
       "      <td>Модуль упругости и Прочность</td>\n",
       "      <td>SVR</td>\n",
       "      <td>0.038326</td>\n",
       "      <td>0.00214</td>\n",
       "    </tr>\n",
       "  </tbody>\n",
       "</table>\n",
       "</div>"
      ],
      "text/plain": [
       "                         target model       MSE       R2\n",
       "0  Модуль упругости и Прочность   SVR  0.038326  0.00214\n",
       "1  Модуль упругости и Прочность   SVR  0.038326  0.00214\n",
       "2  Модуль упругости и Прочность   SVR  0.038326  0.00214"
      ]
     },
     "execution_count": 58,
     "metadata": {},
     "output_type": "execute_result"
    }
   ],
   "source": [
    "loss_df"
   ]
  },
  {
   "cell_type": "code",
   "execution_count": null,
   "id": "b00de93b",
   "metadata": {},
   "outputs": [],
   "source": []
  }
 ],
 "metadata": {
  "kernelspec": {
   "display_name": "Python 3 (ipykernel)",
   "language": "python",
   "name": "python3"
  },
  "language_info": {
   "codemirror_mode": {
    "name": "ipython",
    "version": 3
   },
   "file_extension": ".py",
   "mimetype": "text/x-python",
   "name": "python",
   "nbconvert_exporter": "python",
   "pygments_lexer": "ipython3",
   "version": "3.9.12"
  }
 },
 "nbformat": 4,
 "nbformat_minor": 5
}
